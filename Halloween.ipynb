{
 "cells": [
  {
   "attachments": {},
   "cell_type": "markdown",
   "metadata": {},
   "source": [
    "Copyright (c) 2023 Giovanni Squillero <giovanni.squillero@polito.it>\n",
    "https://github.com/squillero/computational-intelligence\n",
    "Free for personal or classroom use; see LICENSE.md for details."
   ]
  },
  {
   "cell_type": "code",
   "execution_count": null,
   "metadata": {},
   "outputs": [],
   "source": [
    "from itertools import product\n",
    "from random import random, randint, choice, seed, choices\n",
    "import numpy as np\n",
    "from scipy import sparse\n",
    "from copy import  copy\n",
    "from functools import reduce"
   ]
  },
  {
   "cell_type": "code",
   "execution_count": null,
   "metadata": {},
   "outputs": [],
   "source": [
    "def make_set_covering_problem(num_points, num_sets, density):\n",
    "    \"\"\"Returns a sparse array where rows are sets and columns are the covered items\"\"\"\n",
    "    seed(num_points*2654435761+num_sets+density)\n",
    "    sets = sparse.lil_array((num_sets, num_points), dtype=bool)\n",
    "    for s, p in product(range(num_sets), range(num_points)):\n",
    "        if random() < density:\n",
    "            sets[s, p] = True\n",
    "    for p in range(num_points):\n",
    "        sets[randint(0, num_sets-1), p] = True\n",
    "    return sets"
   ]
  },
  {
   "attachments": {},
   "cell_type": "markdown",
   "metadata": {},
   "source": [
    "# Halloween Challenge\n",
    "Find the best solution with the fewest calls to the fitness functions for:\n",
    "\n",
    "- num_points = [100, 1_000, 5_000]\n",
    "- num_sets = num_points\n",
    "- density = [.3, .7]"
   ]
  },
  {
   "cell_type": "code",
   "execution_count": null,
   "metadata": {},
   "outputs": [],
   "source": [
    "x = make_set_covering_problem(1000, 1000, .3)\n",
    "print(\"Element at row=42 and column=42:\", x[42, 42])"
   ]
  },
  {
   "cell_type": "code",
   "execution_count": null,
   "metadata": {},
   "outputs": [],
   "source": [
    "def fitness1(sets, state):\n",
    "    cost = sum(state)\n",
    "    valid = np.all(\n",
    "        reduce(\n",
    "            np.logical_or,\n",
    "            [sets[i, :] for i, t in enumerate(state) if t],\n",
    "            np.array([False for _ in range(sets.shape[1])]),\n",
    "        )\n",
    "    )\n",
    "    return valid, -cost\n",
    "\n",
    "def fitness2(sets, state):\n",
    "    cost = sum(state)\n",
    "    if np.array(state).any():\n",
    "        valid = sets[np.array(state), :].max(axis=0).sum()\n",
    "    else:\n",
    "        valid = 0\n",
    "    return valid, -cost"
   ]
  },
  {
   "cell_type": "code",
   "execution_count": null,
   "metadata": {},
   "outputs": [],
   "source": [
    "fitness = fitness1"
   ]
  },
  {
   "cell_type": "code",
   "execution_count": null,
   "metadata": {},
   "outputs": [],
   "source": [
    "def tweak(state, size):\n",
    "    new_state = copy(state)\n",
    "    index = randint(0, size - 1)\n",
    "    new_state[index] = not new_state[index]\n",
    "    return new_state\n"
   ]
  },
  {
   "attachments": {},
   "cell_type": "markdown",
   "metadata": {},
   "source": [
    "# Hill Climbing"
   ]
  },
  {
   "cell_type": "code",
   "execution_count": null,
   "metadata": {},
   "outputs": [],
   "source": [
    "NUM_SETS = 100\n",
    "sets = make_set_covering_problem(NUM_SETS, NUM_SETS, .3).toarray()\n",
    "current_state = [choice([False, False, False, False, False, False]) for _ in range(NUM_SETS)]\n",
    "print(fitness(sets, current_state))\n",
    "\n",
    "for step in range(1000):\n",
    "    new_state = tweak(current_state, NUM_SETS)\n",
    "    if fitness(sets, new_state) >= fitness(sets, current_state):\n",
    "        current_state = new_state\n",
    "        print(fitness(sets, current_state))\n"
   ]
  },
  {
   "attachments": {},
   "cell_type": "markdown",
   "metadata": {},
   "source": [
    "# Simulated Annealinig"
   ]
  },
  {
   "cell_type": "code",
   "execution_count": null,
   "metadata": {},
   "outputs": [],
   "source": [
    "def f(val):\n",
    "    return val[0] * val[1]\n",
    "\n",
    "NUM_SETS = 1000\n",
    "sets = make_set_covering_problem(NUM_SETS, NUM_SETS, .3).toarray()\n",
    "current_state = [choice([False, False, False, False, False, False]) for _ in range(NUM_SETS)]\n",
    "print(fitness(sets, current_state))\n",
    "schedule = 2\n",
    "counter = 0\n",
    "t = 15\n",
    "for step in range(10_000):\n",
    "    if counter % schedule == 0 and t > 1:\n",
    "        t -= 1\n",
    "    new_state = tweak(current_state, NUM_SETS)\n",
    "    s = fitness(sets, current_state)\n",
    "    s_new = fitness(sets, new_state)\n",
    "    p = np.exp(-(f(s) - f(s_new)) / t)\n",
    "    if s_new >= s or choices([False, True], weights=(1 - p, p)):\n",
    "        current_state = new_state\n",
    "        print(fitness(sets, current_state))\n",
    "    counter += 1\n"
   ]
  }
 ],
 "metadata": {
  "kernelspec": {
   "display_name": "base",
   "language": "python",
   "name": "python3"
  },
  "language_info": {
   "codemirror_mode": {
    "name": "ipython",
    "version": 3
   },
   "file_extension": ".py",
   "mimetype": "text/x-python",
   "name": "python",
   "nbconvert_exporter": "python",
   "pygments_lexer": "ipython3",
   "version": "3.11.5 (main, Sep 11 2023, 08:31:25) [Clang 14.0.6 ]"
  },
  "orig_nbformat": 4,
  "vscode": {
   "interpreter": {
    "hash": "77ddeb62fc8992f57a92de3f01f7b17bf32a33fe7243b75e51a51951af3e2565"
   }
  }
 },
 "nbformat": 4,
 "nbformat_minor": 2
}
