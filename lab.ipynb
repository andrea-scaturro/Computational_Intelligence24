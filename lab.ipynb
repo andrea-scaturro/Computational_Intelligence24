{
 "cells": [
  {
   "attachments": {},
   "cell_type": "markdown",
   "metadata": {},
   "source": [
    "# Lab 1: Set Covering Problem\n",
    "\n",
    "This project is part of the Computational Intelligence course at Politecnico di Torino. It focuses on the implementation and exploration of algorithms to solve the Set Covering Problem, a classical optimization problem in computer science.\n",
    "\n",
    "## Problem Description\n",
    "\n",
    "The Set Covering Problem (SCP) is a fundamental combinatorial optimization problem where the goal is to cover a universal set \\( U \\) with the smallest possible collection of subsets from a given family of subsets \\( S \\). Formally, given a finite set \\( U \\) and a family of subsets \\( S \\) such that every element in \\( U \\) is contained in at least one subset in \\( S \\), the task is to find the smallest subfamily of \\( S \\) whose union equals \\( U \\).\n",
    "\n",
    "## Collaborations\n",
    "I worked with: \n",
    "- Matteo Martini - s314786 (https://github.com/MatteMartini/Computational-Intelligence.git)\n",
    "- Gabriele Lucca - s314297 (https://github.com/GabrieleLucca/Computational-intelligence.git)\n"
   ]
  },
  {
   "cell_type": "code",
   "execution_count": 111,
   "metadata": {},
   "outputs": [],
   "source": [
    "from random import random\n",
    "from math import ceil\n",
    "from functools import reduce\n",
    "from queue import PriorityQueue\n",
    "\n",
    "\n",
    "import numpy as np\n"
   ]
  },
  {
   "cell_type": "code",
   "execution_count": 112,
   "metadata": {},
   "outputs": [],
   "source": [
    "State = namedtuple('State', ['taken', 'not_taken'])\n",
    "\n",
    "def covered(state):\n",
    "    return reduce(\n",
    "        np.logical_or,\n",
    "        [SETS[i] for i in state.taken],\n",
    "        np.array([False for _ in range(PROBLEM_SIZE)]),\n",
    "    )\n",
    "\n",
    "def goal_check(state):\n",
    "    return np.all(covered(state))"
   ]
  },
  {
   "cell_type": "code",
   "execution_count": 113,
   "metadata": {},
   "outputs": [],
   "source": [
    "PROBLEM_SIZE = 100\n",
    "NUM_SETS = 200\n",
    "SETS = tuple(np.array([random() < 0.2 for _ in range(PROBLEM_SIZE)]) for _ in range(NUM_SETS))\n",
    "assert goal_check(State(set(range(NUM_SETS)), set())), \"Probelm not solvable\""
   ]
  },
  {
   "cell_type": "code",
   "execution_count": 114,
   "metadata": {},
   "outputs": [],
   "source": [
    "assert goal_check(\n",
    "    State(set(range(NUM_SETS)), set())\n",
    "), \"Probelm not solvable\""
   ]
  },
  {
   "cell_type": "code",
   "execution_count": 115,
   "metadata": {},
   "outputs": [],
   "source": [
    "def h(state):\n",
    "    already_covered = covered(state)\n",
    "    if np.all(already_covered):\n",
    "        return 0\n",
    "    \n",
    "    big_set = max(sum(np.logical_and(s, np.logical_not(already_covered))) for s in SETS)\n",
    "    size = PROBLEM_SIZE - sum(already_covered)\n",
    "    result = ceil(size /big_set)\n",
    "    return result\n",
    "\n",
    "\n",
    "def f(state):\n",
    "    return len(state.taken) + h(state)"
   ]
  },
  {
   "cell_type": "code",
   "execution_count": 116,
   "metadata": {},
   "outputs": [
    {
     "name": "stdout",
     "output_type": "stream",
     "text": [
      "Solved in 845 steps (5 tiles)\n"
     ]
    }
   ],
   "source": [
    "frontier = PriorityQueue()\n",
    "state = State(set(), set(range(NUM_SETS)))\n",
    "frontier.put((f(state), state))\n",
    "\n",
    "counter = 0\n",
    "_, current_state = frontier.get()\n",
    "\n",
    "while not goal_check(current_state):\n",
    "        counter += 1\n",
    "        for action in current_state[1]:\n",
    "            new_state = State(\n",
    "                current_state.taken ^ {action},\n",
    "                current_state.not_taken ^ {action},\n",
    "            )\n",
    "            frontier.put((f(new_state), new_state))\n",
    "        _, current_state = frontier.get()\n",
    "        \n",
    "\n",
    "print(f\"Solved in {counter:,} steps ({len(current_state.taken)} tiles)\")"
   ]
  }
 ],
 "metadata": {
  "kernelspec": {
   "display_name": "base",
   "language": "python",
   "name": "python3"
  },
  "language_info": {
   "codemirror_mode": {
    "name": "ipython",
    "version": 3
   },
   "file_extension": ".py",
   "mimetype": "text/x-python",
   "name": "python",
   "nbconvert_exporter": "python",
   "pygments_lexer": "ipython3",
   "version": "3.11.5 (main, Sep 11 2023, 08:31:25) [Clang 14.0.6 ]"
  },
  "orig_nbformat": 4,
  "vscode": {
   "interpreter": {
    "hash": "77ddeb62fc8992f57a92de3f01f7b17bf32a33fe7243b75e51a51951af3e2565"
   }
  }
 },
 "nbformat": 4,
 "nbformat_minor": 2
}
