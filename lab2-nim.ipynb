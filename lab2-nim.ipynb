{
 "cells": [
  {
   "cell_type": "markdown",
   "metadata": {
    "pycharm": {
     "name": "#%% md\n"
    }
   },
   "source": [
    "Copyright **`(c)`** 2022 Giovanni Squillero `<squillero@polito.it>`  \n",
    "[`https://github.com/squillero/computational-intelligence`](https://github.com/squillero/computational-intelligence)  \n",
    "Free for personal or classroom use; see [`LICENSE.md`](https://github.com/squillero/computational-intelligence/blob/master/LICENSE.md) for details.  \n"
   ]
  },
  {
   "cell_type": "markdown",
   "metadata": {
    "pycharm": {
     "name": "#%%\n"
    }
   },
   "source": [
    "# Lab 3: ES\n",
    "\n",
    "## Task\n",
    "\n",
    "Write agents able to play [*Nim*](https://en.wikipedia.org/wiki/Nim), with an arbitrary number of rows and an upper bound $k$ on the number of objects that can be removed in a turn (a.k.a., *subtraction game*).\n",
    "\n",
    "The goal of the game is to **avoid** taking the last object.\n",
    "\n",
    "* Task2.1: An agent using fixed rules based on *nim-sum* (i.e., an *expert system*)\n",
    "* Task2.2: An agent using evolved rules using ES\n",
    "\n",
    "## Instructions\n",
    "\n",
    "* Create the directory `lab2` inside your personal course repository for the course \n",
    "* Put a `README.md` and your solution (all the files, code and auxiliary data if needed)\n",
    "\n",
    "## Notes\n",
    "\n",
    "* Working in group is not only allowed, but recommended (see: [Ubuntu](https://en.wikipedia.org/wiki/Ubuntu_philosophy) and [Cooperative Learning](https://files.eric.ed.gov/fulltext/EJ1096789.pdf)). Collaborations must be explicitly declared in the `README.md`.\n",
    "* [Yanking](https://www.emacswiki.org/emacs/KillingAndYanking) from the internet is allowed, but sources must be explicitly declared in the `README.md`.\n",
    "\n"
   ]
  },
  {
   "cell_type": "code",
   "execution_count": 63,
   "metadata": {},
   "outputs": [],
   "source": [
    "import logging\n",
    "import sys\n",
    "from pprint import pprint, pformat\n",
    "from collections import namedtuple\n",
    "import random\n",
    "from copy import deepcopy\n",
    "import math\n",
    "import numpy as np\n",
    "from tqdm import tqdm"
   ]
  },
  {
   "cell_type": "markdown",
   "metadata": {},
   "source": [
    "## The *Nim* and *Nimply* classes"
   ]
  },
  {
   "cell_type": "code",
   "execution_count": 64,
   "metadata": {},
   "outputs": [],
   "source": [
    "Nimply = namedtuple(\"Nimply\", \"row, num_objects\")\n"
   ]
  },
  {
   "cell_type": "code",
   "execution_count": 65,
   "metadata": {},
   "outputs": [],
   "source": [
    "class Nim:\n",
    "    def __init__(self, num_rows: int, k: int = None) -> None:\n",
    "        self._rows = [i * 2 + 1 for i in range(num_rows)]\n",
    "        self._k = k\n",
    "\n",
    "    def __bool__(self):\n",
    "        return sum(self._rows) > 0\n",
    "\n",
    "    def __str__(self):\n",
    "        return \"<\" + \" \".join(str(_) for _ in self._rows) + \">\"\n",
    "\n",
    "    @property\n",
    "    def rows(self) -> tuple:\n",
    "        return tuple(self._rows)\n",
    "\n",
    "    def nimming(self, ply: Nimply) -> None:\n",
    "        row, num_objects = ply\n",
    "        assert self._rows[row] >= num_objects\n",
    "        assert self._k is None or num_objects <= self._k\n",
    "        self._rows[row] -= num_objects\n"
   ]
  },
  {
   "cell_type": "markdown",
   "metadata": {},
   "source": [
    "## Sample (and silly) startegies "
   ]
  },
  {
   "cell_type": "code",
   "execution_count": 66,
   "metadata": {},
   "outputs": [],
   "source": [
    "def pure_random(state: Nim, genomes = None) -> Nimply:\n",
    "    \"\"\"A completely random move\"\"\"\n",
    "    row = random.choice([r for r, c in enumerate(state.rows) if c > 0])\n",
    "    num_objects = random.randint(1, state.rows[row])\n",
    "    return Nimply(row, num_objects)\n"
   ]
  },
  {
   "cell_type": "code",
   "execution_count": 67,
   "metadata": {},
   "outputs": [],
   "source": [
    "def gabriele(state: Nim) -> Nimply:\n",
    "    \"\"\"Pick always the maximum possible number of the lowest row\"\"\"\n",
    "    possible_moves = [(r, o) for r, c in enumerate(state.rows) for o in range(1, c + 1)]\n",
    "    return Nimply(*max(possible_moves, key=lambda m: (-m[0], m[1])))\n"
   ]
  },
  {
   "cell_type": "code",
   "execution_count": 68,
   "metadata": {},
   "outputs": [],
   "source": [
    "def adaptive(state: Nim) -> Nimply:\n",
    "    \"\"\"A strategy that can adapt its parameters\"\"\"\n",
    "    genome = {\"love_small\": 0.5}\n"
   ]
  },
  {
   "cell_type": "code",
   "execution_count": 69,
   "metadata": {},
   "outputs": [],
   "source": [
    "import numpy as np\n",
    "\n",
    "\n",
    "def nim_sum(state: Nim) -> int:\n",
    "    tmp = np.array([tuple(int(x) for x in f\"{c:032b}\") for c in state.rows]) #trasforma il numero in binario\n",
    "    xor = np.bitwise_xor.reduce(tmp, axis=0)\n",
    "    n = int(\"\".join(str(_) for _ in xor), base=2) #ritrasforma il numero da binario in decimale\n",
    "    return n\n",
    "\n",
    "\n",
    "def analize(raw: Nim) -> dict:\n",
    "    cooked = dict()\n",
    "    cooked[\"possible_moves\"] = dict()\n",
    "    for ply in (Nimply(r, o) for r, c in enumerate(raw.rows) for o in range(1, c + 1)):\n",
    "        tmp = deepcopy(raw)\n",
    "        tmp.nimming(ply)\n",
    "        cooked[\"possible_moves\"][ply] = nim_sum(tmp)\n",
    "    #print(cooked)\n",
    "    return cooked\n",
    "\n",
    "\n",
    "def optimal(state: Nim, genomes=None) -> Nimply:\n",
    "    analysis = analize(state)\n",
    "    #logging.debug(f\"analysis:\\n{pformat(analysis)}\")\n",
    "    spicy_moves = [ply for ply, ns in analysis[\"possible_moves\"].items() if ns != 0]\n",
    "    if not spicy_moves:\n",
    "        spicy_moves = list(analysis[\"possible_moves\"].keys())\n",
    "    ply = random.choice(spicy_moves)\n",
    "    return ply\n"
   ]
  },
  {
   "attachments": {},
   "cell_type": "markdown",
   "metadata": {},
   "source": [
    "## Strategies"
   ]
  },
  {
   "cell_type": "code",
   "execution_count": 70,
   "metadata": {},
   "outputs": [
    {
     "name": "stdout",
     "output_type": "stream",
     "text": [
      "[0.16860179 0.92181369]\n"
     ]
    },
    {
     "data": {
      "text/plain": [
       "array([0.16860179, 0.92181369])"
      ]
     },
     "execution_count": 70,
     "metadata": {},
     "output_type": "execute_result"
    }
   ],
   "source": [
    "def find_genomes():\n",
    "    pre = np.random.normal(loc=0, scale=1, size=2) #Create two different gaussian variables\n",
    "    val = 0.5 * (1 + np.tanh(pre / np.sqrt(2)))\n",
    "    print(val)\n",
    "    return val\n",
    "    \n",
    "def choose_element(vector, alpha):\n",
    "    alpha = max(0, min(alpha, 1)) #Ensure that alpha is between 0 and 1\n",
    "    index = int(alpha * (len(vector)))# Calculate the index based on the value of alpha\n",
    "    if index >= len(vector)-1:\n",
    "        index = len(vector) - 1\n",
    "    if index < 0:\n",
    "        index = 0\n",
    "    chosen_element = vector[index]# Return the corresponding element\n",
    "    return chosen_element\n",
    "\n",
    "find_genomes()"
   ]
  },
  {
   "cell_type": "code",
   "execution_count": 71,
   "metadata": {},
   "outputs": [
    {
     "name": "stdout",
     "output_type": "stream",
     "text": [
      "[0.69113873 0.38105492]\n"
     ]
    }
   ],
   "source": [
    "nim = Nim(3)\n",
    "genomes = find_genomes()\n",
    "\n",
    "def adaptive(state: Nim, genomes) -> Nimply:\n",
    "    \"\"\"Is it a random move?\"\"\"\n",
    "    indices = [i for i, elemento in enumerate(state.rows) if elemento != 0]\n",
    "    row = choose_element(indices, genomes[0])\n",
    "    closest_genome = genomes[0]\n",
    "    while state.rows[row] == 0:\n",
    "        closest_genome += random.uniform(-0.25, 0.25)\n",
    "        row = choose_element(indices, closest_genome)\n",
    "    if (state.rows[row] == 1):\n",
    "        num_objects = 1\n",
    "    else:\n",
    "        num_objects = choose_element(range(1, state.rows[row]), genomes[1])\n",
    "    return Nimply(row, num_objects)"
   ]
  },
  {
   "cell_type": "code",
   "execution_count": 72,
   "metadata": {},
   "outputs": [],
   "source": [
    "def play_game(strat, genomes):\n",
    "    #logging.getLogger().setLevel(logging.INFO)\n",
    "\n",
    "    strategy = (strat, optimal)\n",
    "\n",
    "    nim = Nim(3)\n",
    "    #logging.info(f\"init : {nim}\")\n",
    "    player = 0\n",
    "    while nim:\n",
    "        ply = strategy[player](nim, genomes)\n",
    "        #logging.info(f\"ply: player {player} plays {ply}\")\n",
    "        nim.nimming(ply)\n",
    "        #logging.info(f\"status: {nim}\")\n",
    "        player = 1 - player\n",
    "    #logging.info(f\"status: Player {player} won!\")\n",
    "    return player\n",
    "\n",
    "#play_game(adaptive, genomes)\n",
    "\n",
    "# Fitness function\n",
    "def fitness(strategy, genomes, num_games=100):\n",
    "    wins = 0\n",
    "    for _ in range(num_games):\n",
    "        if play_game(strategy, genomes):\n",
    "            wins += 1\n",
    "    return (num_games - wins) / num_games"
   ]
  },
  {
   "cell_type": "code",
   "execution_count": 73,
   "metadata": {},
   "outputs": [],
   "source": [
    "def tweak(genome, mu=0, sigma=np.array([0.1, 0.1])):\n",
    "    dist = np.array([np.random.normal(mu, sigma[0], 1), np.random.normal(mu, sigma[1], 1)])\n",
    "    new = np.array([0,0])\n",
    "\n",
    "    new[0] = genome[0] + dist[0][0]\n",
    "    new[1] = genome[1] + dist[1][0]\n",
    "\n",
    "    if new[0] >= 1:\n",
    "        new[0] = 0.999\n",
    "    elif new[0] < 0:\n",
    "        new[0] = 0\n",
    "\n",
    "    if new[1] >= 1:\n",
    "        new[1] = 0.999\n",
    "    elif new[1] < 0:\n",
    "        new[1] = 0\n",
    "    \n",
    "    return new"
   ]
  },
  {
   "cell_type": "code",
   "execution_count": 74,
   "metadata": {},
   "outputs": [],
   "source": [
    "def train(generations=100, population_size=100, mu=0, sigma=0.1, save_parent=True):\n",
    "    genomes = find_genomes()\n",
    "    parent_genome = (genomes, fitness(adaptive, genomes))\n",
    "\n",
    "    for _ in tqdm(range(generations), file=sys.stdout):\n",
    "        best_genome = ({\"row\": 0, \"elements\": 0}, 0)\n",
    "        for i in range(population_size):\n",
    "            \n",
    "            child_genome = tweak(parent_genome[0], mu, np.array([sigma, sigma]))\n",
    "            fit = fitness(adaptive, child_genome)\n",
    "            if fit > best_genome[1] or i == 0:\n",
    "                best_genome = (child_genome, fit)\n",
    "\n",
    "        if save_parent: #it will depend if it's a (1,lambda) or a (1+lambda) situation\n",
    "            if best_genome[1] > parent_genome[1]:\n",
    "                parent_genome = best_genome\n",
    "                print(parent_genome)\n",
    "        else:\n",
    "            parent_genome = best_genome\n",
    "            print(parent_genome)"
   ]
  },
  {
   "cell_type": "code",
   "execution_count": 75,
   "metadata": {},
   "outputs": [
    {
     "name": "stdout",
     "output_type": "stream",
     "text": [
      "[0.73252718 0.2866656 ]\n",
      "  0%|          | 0/100 [00:00<?, ?it/s](array([0, 0]), 0.44)\n",
      "  2%|▏         | 2/100 [00:10<08:46,  5.38s/it](array([0, 0]), 0.47)\n",
      " 17%|█▋        | 17/100 [01:30<07:19,  5.30s/it](array([0, 0]), 0.48)\n",
      " 30%|███       | 30/100 [02:39<06:12,  5.32s/it](array([0, 0]), 0.51)\n",
      "100%|██████████| 100/100 [08:56<00:00,  5.37s/it]\n"
     ]
    }
   ],
   "source": [
    "train(generations=100, population_size=100, mu=0.1, sigma=0.2, save_parent=True)"
   ]
  },
  {
   "cell_type": "markdown",
   "metadata": {},
   "source": []
  }
 ],
 "metadata": {
  "kernelspec": {
   "display_name": "base",
   "language": "python",
   "name": "python3"
  },
  "language_info": {
   "codemirror_mode": {
    "name": "ipython",
    "version": 3
   },
   "file_extension": ".py",
   "mimetype": "text/x-python",
   "name": "python",
   "nbconvert_exporter": "python",
   "pygments_lexer": "ipython3",
   "version": "3.9.13"
  },
  "vscode": {
   "interpreter": {
    "hash": "fda3872654e0724e8f5203e135213fd0cd18d2e20b20ebe54f9f744fc6c1b5c7"
   }
  }
 },
 "nbformat": 4,
 "nbformat_minor": 2
}
